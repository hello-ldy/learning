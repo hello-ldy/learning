{
 "cells": [
  {
   "cell_type": "code",
   "execution_count": null,
   "id": "85604191",
   "metadata": {},
   "outputs": [],
   "source": [
    "# 闭包\n",
    "def funA():\n",
    "    x=888\n",
    "    def funB():\n",
    "        print(x)\n",
    "    funB()\n",
    "funA()"
   ]
  },
  {
   "cell_type": "code",
   "execution_count": 3,
   "id": "3096d138",
   "metadata": {},
   "outputs": [
    {
     "name": "stdout",
     "output_type": "stream",
     "text": [
      "888\n"
     ]
    }
   ],
   "source": [
    "def funA():\n",
    "    x=888\n",
    "    def funB():\n",
    "        print(x)\n",
    "    return funB\n",
    "funny=funA()\n",
    "funny()"
   ]
  },
  {
   "cell_type": "code",
   "execution_count": 4,
   "id": "75290e43",
   "metadata": {},
   "outputs": [
    {
     "data": {
      "text/plain": [
       "16"
      ]
     },
     "execution_count": 4,
     "metadata": {},
     "output_type": "execute_result"
    }
   ],
   "source": [
    "def power(exp):\n",
    "    def exp_of(base):\n",
    "        return base**exp\n",
    "    return exp_of\n",
    "square=power(2)\n",
    "square(4)"
   ]
  },
  {
   "cell_type": "code",
   "execution_count": 5,
   "id": "3476f36b",
   "metadata": {},
   "outputs": [
    {
     "name": "stdout",
     "output_type": "stream",
     "text": [
      "现在，x=1,y=2\n"
     ]
    }
   ],
   "source": [
    "def outer():\n",
    "    x=0\n",
    "    y=0\n",
    "    def inner(x1,y1):\n",
    "        nonlocal x,y\n",
    "        x+=x1\n",
    "        y+=y1\n",
    "        print(\"现在，x={x},y={y}\".format(x=x,y=y))\n",
    "    return inner\n",
    "move=outer()\n",
    "move(1,2)"
   ]
  },
  {
   "cell_type": "code",
   "execution_count": null,
   "id": "b5e5fd44",
   "metadata": {},
   "outputs": [],
   "source": [
    "# 装饰器\n",
    "import time\n",
    "def time_master(func):\n",
    "    def call_func():\n",
    "        print(\"开始运行程序\")\n",
    "        start=time.time()\n",
    "        func()\n",
    "        stop=time.time()\n",
    "        print(\"结束程序运行\")\n",
    "        print(f\"一共耗费了{(stop-start):.2f}秒\")\n",
    "    return call_func\n",
    "@time_master\n",
    "def myfunc():\n",
    "    time.sleep(2)\n",
    "    print(\"IIIII\")\n",
    "myfunc()\n",
    "time_master(myfunc)()"
   ]
  },
  {
   "cell_type": "code",
   "execution_count": 11,
   "id": "1b5fe17c",
   "metadata": {},
   "outputs": [
    {
     "name": "stdout",
     "output_type": "stream",
     "text": [
      "开始运行程序\n",
      "IIIII\n",
      "结束程序运行\n",
      "一共耗费了2.01秒\n"
     ]
    }
   ],
   "source": [
    "import time\n",
    "def logger(msg):\n",
    "    def time_master(func):\n",
    "        def call_func():\n",
    "            print(\"开始运行程序\")\n",
    "            start=time.time()\n",
    "            func()\n",
    "            stop=time.time()\n",
    "            print(\"结束程序运行\")\n",
    "            print(f\"一共耗费了{(stop-start):.2f}秒\")\n",
    "        return call_func\n",
    "    return time_master\n",
    "@logger(msg='A') #msg保持一致\n",
    "def myfunc():\n",
    "    time.sleep(2)\n",
    "    print(\"IIIII\")\n",
    "myfunc()"
   ]
  },
  {
   "cell_type": "code",
   "execution_count": null,
   "id": "9b661175",
   "metadata": {},
   "outputs": [],
   "source": [
    "# lambda表达式\n",
    "#lambda arg1,arg2,arg3...argN:expression\n",
    "square=lambda y:y*y\n",
    "square(3)"
   ]
  },
  {
   "cell_type": "code",
   "execution_count": 14,
   "id": "5e95d3c8",
   "metadata": {},
   "outputs": [
    {
     "name": "stdout",
     "output_type": "stream",
     "text": [
      "<map object at 0x000001E3B6D5CAC0>\n"
     ]
    },
    {
     "data": {
      "text/plain": [
       "[118, 110, 131]"
      ]
     },
     "execution_count": 14,
     "metadata": {},
     "output_type": "execute_result"
    }
   ],
   "source": [
    "mapped=map(lambda x:ord(x)+10,\"ldy\")\n",
    "print(mapped)\n",
    "list(mapped)"
   ]
  },
  {
   "cell_type": "code",
   "execution_count": 18,
   "id": "53aacd8a",
   "metadata": {},
   "outputs": [
    {
     "name": "stdout",
     "output_type": "stream",
     "text": [
      "0\n",
      "1\n",
      "2\n",
      "3\n",
      "4\n",
      "5\n"
     ]
    },
    {
     "data": {
      "text/plain": [
       "0"
      ]
     },
     "execution_count": 18,
     "metadata": {},
     "output_type": "execute_result"
    }
   ],
   "source": [
    "# 生成器\n",
    "def counter():\n",
    "    i=0\n",
    "    while i<=5:\n",
    "        yield i\n",
    "        i+=1\n",
    "counter()\n",
    "for i in counter():\n",
    "    print(i)\n",
    "i=counter()\n",
    "next(i)"
   ]
  },
  {
   "cell_type": "code",
   "execution_count": 19,
   "id": "6f4a2ce7",
   "metadata": {},
   "outputs": [
    {
     "data": {
      "text/plain": [
       "<generator object <genexpr> at 0x000001E3B6D66200>"
      ]
     },
     "execution_count": 19,
     "metadata": {},
     "output_type": "execute_result"
    }
   ],
   "source": [
    "(i**2 for i in range(5))"
   ]
  },
  {
   "cell_type": "code",
   "execution_count": 5,
   "id": "b5b9829c",
   "metadata": {},
   "outputs": [
    {
     "name": "stdout",
     "output_type": "stream",
     "text": [
      "{}\n",
      "{'x': 2}\n",
      "{}\n"
     ]
    }
   ],
   "source": [
    "# python 类的绑定\n",
    "class C:\n",
    "    x=2\n",
    "    def set_x(self,v):\n",
    "        self.x=v\n",
    "c=C()\n",
    "print(c.__dict__)\n",
    "c.set_x(2)\n",
    "print(c.__dict__)\n",
    "class D(C):\n",
    "    pass\n",
    "d=D()\n",
    "print(d.__dict__)"
   ]
  },
  {
   "cell_type": "code",
   "execution_count": 6,
   "id": "2f3ab3bb",
   "metadata": {},
   "outputs": [],
   "source": [
    "#python 重写，钻石继承\n"
   ]
  },
  {
   "cell_type": "code",
   "execution_count": null,
   "id": "e02850da",
   "metadata": {},
   "outputs": [],
   "source": []
  },
  {
   "cell_type": "code",
   "execution_count": 9,
   "id": "424c2ebb",
   "metadata": {},
   "outputs": [
    {
     "name": "stdout",
     "output_type": "stream",
     "text": [
      "{'_C__x': 520}\n"
     ]
    }
   ],
   "source": [
    "#私有变量，__slots__\n",
    "#python中不存在私有变量\n",
    "class C:\n",
    "    def __init__(self,x):\n",
    "        self.__x=x\n",
    "    def set_x(self,x):\n",
    "        self.__x=x\n",
    "    def get_x(self):\n",
    "        print(self.__x)\n",
    "c=C(250)\n",
    "c.__x #!报错\n",
    "c.set_x(520)\n",
    "print(c.__dict__)"
   ]
  },
  {
   "cell_type": "code",
   "execution_count": 11,
   "id": "4274ca4e",
   "metadata": {},
   "outputs": [
    {
     "name": "stdout",
     "output_type": "stream",
     "text": [
      "['x', 'y']\n",
      "{'z': 666}\n"
     ]
    }
   ],
   "source": [
    "class C:\n",
    "    __slots__=[\"x\",\"y\"]\n",
    "    def __init__(self,x):\n",
    "        self.x=x\n",
    "c=C(250)\n",
    "c.y=500\n",
    "print(c.__slots__)\n",
    "class E(C):\n",
    "    pass\n",
    "e=E(250)\n",
    "e.z=666\n",
    "print(e.__dict__)"
   ]
  },
  {
   "cell_type": "code",
   "execution_count": 12,
   "id": "3eed83ed",
   "metadata": {},
   "outputs": [
    {
     "data": {
      "text/plain": [
       "'LDY'"
      ]
     },
     "execution_count": 12,
     "metadata": {},
     "output_type": "execute_result"
    }
   ],
   "source": [
    "# 魔法方法\n",
    "#实例化对象，调用的第一个魔法方法为__new__(cls[,/...])\n",
    "class CapStr(str):\n",
    "    def __new__(cls,string):\n",
    "        string=string.upper()\n",
    "        return super().__new__(cls,string)\n",
    "cs=CapStr(\"ldy\")\n",
    "cs"
   ]
  },
  {
   "cell_type": "code",
   "execution_count": 13,
   "id": "809847f6",
   "metadata": {},
   "outputs": [
    {
     "name": "stdout",
     "output_type": "stream",
     "text": [
      "<__main__.E object at 0x0000021C93347E50>\n"
     ]
    }
   ],
   "source": [
    "#__del__() 在对象销毁前拦截\n",
    "class E:\n",
    "    def __init__(self,name,func):\n",
    "        self.name=name\n",
    "        self.func=func\n",
    "    def __del__(self):\n",
    "        self.func(self)\n",
    "def outter():\n",
    "    x=0\n",
    "    def inner(y=None):\n",
    "        nonlocal x\n",
    "        if y:\n",
    "            x=y\n",
    "        else:\n",
    "            return x\n",
    "    return inner\n",
    "f=outter()\n",
    "e=E(\"ldy\",f)\n",
    "del e\n",
    "print(f())"
   ]
  },
  {
   "cell_type": "code",
   "execution_count": 14,
   "id": "c59128c5",
   "metadata": {},
   "outputs": [
    {
     "data": {
      "text/plain": [
       "'5'"
      ]
     },
     "execution_count": 14,
     "metadata": {},
     "output_type": "execute_result"
    }
   ],
   "source": [
    "# __index__魔法方法\n",
    "class C:\n",
    "    def __index__(self):\n",
    "        return 3\n",
    "c=C()\n",
    "\"ldy56\"[c]"
   ]
  },
  {
   "cell_type": "code",
   "execution_count": 19,
   "id": "be779b28",
   "metadata": {},
   "outputs": [
    {
     "name": "stdout",
     "output_type": "stream",
     "text": [
      "True\n",
      "{'name': 'ldy', '_C__age': 23}\n",
      "23\n"
     ]
    }
   ],
   "source": [
    "#__getattr__、__setattr__、__getattribute__\n",
    "class C:\n",
    "    def __init__(self,name,age):\n",
    "        self.name=name\n",
    "        self.__age=age\n",
    "c=C(\"ldy\",23)\n",
    "print(hasattr(c,\"name\"))\n",
    "print(c.__dict__)\n",
    "print(getattr(c,\"_C__age\"))\n",
    "setattr(c,\"_C__age\",24)\n",
    "delattr(c,\"_C__age\")\n",
    "\n"
   ]
  },
  {
   "cell_type": "code",
   "execution_count": 22,
   "id": "94166568",
   "metadata": {},
   "outputs": [
    {
     "name": "stdout",
     "output_type": "stream",
     "text": [
      "__getattribute__\n"
     ]
    },
    {
     "data": {
      "text/plain": [
       "'ldy'"
      ]
     },
     "execution_count": 22,
     "metadata": {},
     "output_type": "execute_result"
    }
   ],
   "source": [
    "class C:\n",
    "    def __init__(self,name,age):\n",
    "        self.name=name\n",
    "        self.__age=age\n",
    "    def __getattribute__(self,attrname):\n",
    "        print(\"__getattribute__\")\n",
    "        return super().__getattribute__(attrname)\n",
    "    def __getattr__(self,attrname): #当属性不存在时调用\n",
    "        print(\"__getattr__\")\n",
    "        raise AttributeError(attrname)\n",
    "    \n",
    "c=C(\"ldy\",24)\n",
    "c.name\n"
   ]
  },
  {
   "cell_type": "code",
   "execution_count": 24,
   "id": "10abe8ae",
   "metadata": {},
   "outputs": [
    {
     "name": "stdout",
     "output_type": "stream",
     "text": [
      "[3, 4]\n"
     ]
    }
   ],
   "source": [
    "#__getitem__、__setitem__\n",
    "class D:\n",
    "    def __init__(self,data):\n",
    "        self.data=data\n",
    "    def __getitem__(self,index):\n",
    "        return self.data[index]\n",
    "    def __setitem__(self,index,value):\n",
    "        self.data[index]=value\n",
    "d=D([1,2,3,4])\n",
    "print(d[2:4])\n"
   ]
  },
  {
   "cell_type": "code",
   "execution_count": 25,
   "id": "ea706864",
   "metadata": {},
   "outputs": [
    {
     "name": "stdout",
     "output_type": "stream",
     "text": [
      "2 4 6 8 10 "
     ]
    }
   ],
   "source": [
    "#__iter__、__next__\n",
    "class D:\n",
    "    def __init__(self,start,stop):\n",
    "        self.value=start-1\n",
    "        self.stop=stop\n",
    "    def __iter__(self):\n",
    "        return self\n",
    "    def __next__(self):\n",
    "        if self.value==self.stop:\n",
    "            raise StopIteration\n",
    "        self.value+=1\n",
    "        return self.value*2\n",
    "d=D(1,5)\n",
    "for i in d:\n",
    "    print(i,end=\" \")"
   ]
  },
  {
   "cell_type": "code",
   "execution_count": 26,
   "id": "64c2d78e",
   "metadata": {},
   "outputs": [],
   "source": [
    "#代偿实现 __contains__-->__iter__、__next__--->getitem\n",
    "#__bool__-->__len__\n",
    "#不想让魔法方法生效 令__contains__=none"
   ]
  },
  {
   "cell_type": "code",
   "execution_count": 27,
   "id": "d7b9aa10",
   "metadata": {},
   "outputs": [
    {
     "data": {
      "text/plain": [
       "9"
      ]
     },
     "execution_count": 27,
     "metadata": {},
     "output_type": "execute_result"
    }
   ],
   "source": [
    "#__call__\n",
    "class Power:\n",
    "    def __init__(self,exp):\n",
    "        self.exp=exp\n",
    "    def __call__(self,base):\n",
    "        return base **self.exp\n",
    "square=Power(2)\n",
    "square(3)"
   ]
  },
  {
   "cell_type": "code",
   "execution_count": 28,
   "id": "2f691dd3",
   "metadata": {},
   "outputs": [
    {
     "name": "stdout",
     "output_type": "stream",
     "text": [
      "250\n",
      "{'_x': 520}\n"
     ]
    }
   ],
   "source": [
    "#property\n",
    "class C:\n",
    "    def __init__(self):\n",
    "        self._x=250\n",
    "    def getx(self):\n",
    "        return self._x\n",
    "    def setx(self,value):\n",
    "        self._x=value\n",
    "    def delx(self):\n",
    "        del self._x\n",
    "    x=property(getx,setx,delx)\n",
    "c=C()\n",
    "print(c.x)\n",
    "c.x=520\n",
    "print(c.__dict__)\n",
    "#==============================\n",
    "class D:\n",
    "    def __init__(self):\n",
    "        self._x=250\n",
    "    def __getattr__(self,name):\n",
    "        if name==\"x\":\n",
    "            return self._x\n",
    "        else:\n",
    "            super().__getattr__(name)\n",
    "    def __setattr__(self,name,value):\n",
    "        if name==\"x\":\n",
    "            super().__setattr__(\"_x\",value)\n",
    "        else:\n",
    "            super().__setattr__(name,value)\n",
    "    def __delattr__(self,name,value):\n",
    "        if name==\"x\":\n",
    "            super().__delattr__(\"_x\")\n",
    "        else:\n",
    "            super().__delattr__(name)"
   ]
  },
  {
   "cell_type": "code",
   "execution_count": 29,
   "id": "0b8e5152",
   "metadata": {},
   "outputs": [
    {
     "name": "stdout",
     "output_type": "stream",
     "text": [
      "250\n"
     ]
    },
    {
     "data": {
      "text/plain": [
       "{'_x': 250}"
      ]
     },
     "execution_count": 29,
     "metadata": {},
     "output_type": "execute_result"
    }
   ],
   "source": [
    "class E:\n",
    "    def __init__(self):\n",
    "        self._x=250\n",
    "    @property\n",
    "    def x(self):\n",
    "        return self._x\n",
    "    @x.setter\n",
    "    def x(self,value):\n",
    "        self._x=value\n",
    "    @x.deleter\n",
    "    def x(self):\n",
    "        del self._x\n",
    "e=E()\n",
    "print(e.x)\n",
    "e.__dict__"
   ]
  },
  {
   "cell_type": "code",
   "execution_count": 30,
   "id": "f4c5332b",
   "metadata": {},
   "outputs": [
    {
     "name": "stdout",
     "output_type": "stream",
     "text": [
      "一共实例化了3个对象\n"
     ]
    }
   ],
   "source": [
    "#类方法\n",
    "class C:\n",
    "    count=0\n",
    "    def __init__(self):\n",
    "        C.count+=1\n",
    "    @classmethod\n",
    "    def get_count(cls):\n",
    "        print(f\"一共实例化了{cls.count}个对象\")\n",
    "c1=C()\n",
    "c2=C()\n",
    "c3=C()\n",
    "C.get_count()"
   ]
  },
  {
   "cell_type": "code",
   "execution_count": 33,
   "id": "1d206430",
   "metadata": {},
   "outputs": [
    {
     "name": "stdout",
     "output_type": "stream",
     "text": [
      "一共实例化了3个对象\n"
     ]
    }
   ],
   "source": [
    "#静态方法\n",
    "class C:\n",
    "    count=0\n",
    "    def __init__(self):\n",
    "        C.count+=1\n",
    "    @staticmethod\n",
    "    def get_count():\n",
    "        print(f\"一共实例化了{C.count}个对象\")\n",
    "c1=C()\n",
    "c2=C()\n",
    "c3=C()\n",
    "C.get_count()"
   ]
  },
  {
   "cell_type": "code",
   "execution_count": 67,
   "id": "566294ff",
   "metadata": {},
   "outputs": [
    {
     "name": "stdout",
     "output_type": "stream",
     "text": [
      "一共实例化了3个对象\n",
      "一共实例化了3个对象\n"
     ]
    }
   ],
   "source": [
    "class C:\n",
    "    count=0\n",
    "    def __init__(self):\n",
    "        C.count+=1\n",
    "    @staticmethod\n",
    "    def get_count():\n",
    "        print(f\"一共实例化了{C.count}个对象\")\n",
    "class D(C):\n",
    "    count=0\n",
    "    def __init__(self):\n",
    "        D.count+=1\n",
    "    @staticmethod\n",
    "    def get_count():\n",
    "        print(f\"一共实例化了{D.count}个对象\")\n",
    "c1=C()\n",
    "c2=C()\n",
    "c3=C()\n",
    "d1=D()\n",
    "d2=D()\n",
    "d3=D()\n",
    "C.get_count()\n",
    "D.get_count()"
   ]
  },
  {
   "cell_type": "code",
   "execution_count": 62,
   "id": "d4efd62c",
   "metadata": {},
   "outputs": [
    {
     "name": "stdout",
     "output_type": "stream",
     "text": [
      "一共实例化了3个对象\n",
      "一共实例化了3个对象\n"
     ]
    }
   ],
   "source": [
    "class C:\n",
    "    count=0\n",
    "    def __init__(self):\n",
    "        C.count+=1\n",
    "    @staticmethod\n",
    "    def get_count():\n",
    "        print(f\"一共实例化了{C.count}个对象\")\n",
    "class D(C):\n",
    "    count=0\n",
    "    def __init__(self):\n",
    "        D.count+=1\n",
    "    @staticmethod\n",
    "    def get_count():\n",
    "        print(f\"一共实例化了{D.count}个对象\")\n",
    "c1=C()\n",
    "c2=C()\n",
    "c3=C()\n",
    "d1=D()\n",
    "d2=D()\n",
    "d3=D()\n",
    "C.get_count()\n",
    "D.get_count()"
   ]
  },
  {
   "cell_type": "code",
   "execution_count": 64,
   "id": "ad0d92c4",
   "metadata": {},
   "outputs": [
    {
     "name": "stdout",
     "output_type": "stream",
     "text": [
      "一共实例化了3个对象\n",
      "一共实例化了3个对象\n"
     ]
    }
   ],
   "source": [
    "class C:\n",
    "    count=0\n",
    "    @classmethod\n",
    "    def add(cls):\n",
    "        cls.count+=1\n",
    "    def __init__(self):\n",
    "        self.add()\n",
    "    @classmethod\n",
    "    def get_count(cls):\n",
    "        print(f\"一共实例化了{cls.count}个对象\")\n",
    "class D(C):\n",
    "    count=0\n",
    "class E(C):\n",
    "    count=0\n",
    "c1=C()\n",
    "c2=C()\n",
    "c3=C()\n",
    "d1=D()\n",
    "d2=D()\n",
    "d3=D()\n",
    "C.get_count()\n",
    "D.get_count()"
   ]
  },
  {
   "cell_type": "code",
   "execution_count": 46,
   "id": "0d8eda26",
   "metadata": {},
   "outputs": [
    {
     "name": "stdout",
     "output_type": "stream",
     "text": [
      "set~\n",
      "self-><__main__.D object at 0x0000021C934085B0>\n",
      "instance-><__main__.C object at 0x0000021C93408C10>\n",
      "value->250\n",
      "get~\n",
      "self-><__main__.D object at 0x0000021C934085B0>\n",
      "instance-><__main__.C object at 0x0000021C93408C10>\n",
      "owner-><class '__main__.C'>\n",
      "delete~\n",
      "self-><__main__.D object at 0x0000021C934085B0>\n",
      "instance-><__main__.C object at 0x0000021C93408C10>\n"
     ]
    }
   ],
   "source": [
    "#描述符及property实现原理\n",
    "class D:  #描述符类\n",
    "    def __get__(self,instance,owner):\n",
    "        print(f\"get~\\nself->{self}\\ninstance->{instance}\\nowner->{owner}\")\n",
    "    def __set__(self,instance,value):\n",
    "        print(f\"set~\\nself->{self}\\ninstance->{instance}\\nvalue->{value}\")\n",
    "    def __delete__(self,instance):\n",
    "        print(f\"delete~\\nself->{self}\\ninstance->{instance}\")\n",
    "class C:\n",
    "    x=D()\n",
    "c=C()\n",
    "c.x=250\n",
    "c.x\n",
    "del c.x"
   ]
  },
  {
   "cell_type": "code",
   "execution_count": 47,
   "id": "452a27dc",
   "metadata": {},
   "outputs": [],
   "source": [
    "class D:  #描述符类\n",
    "    def __get__(self,instance,owner):\n",
    "        return instance._x\n",
    "    def __set__(self,instance,value):\n",
    "        instance._x=value\n",
    "    def __delete__(self,instance):\n",
    "        del instance._x\n",
    "class C:\n",
    "    x=D()\n",
    "c=C()\n",
    "c.x=250\n",
    "c.x\n",
    "del c.x"
   ]
  },
  {
   "cell_type": "code",
   "execution_count": 49,
   "id": "04f45590",
   "metadata": {},
   "outputs": [
    {
     "data": {
      "text/plain": [
       "{'_x': 520}"
      ]
     },
     "execution_count": 49,
     "metadata": {},
     "output_type": "execute_result"
    }
   ],
   "source": [
    "class MyProperty:\n",
    "    def __init__(self,fget=None,fset=None,fdel=None):\n",
    "        self.fget=fget\n",
    "        self.fset=fset\n",
    "        self.fdel=fdel\n",
    "    def __get__(self,instance,owner):\n",
    "        return self.fget(instance)\n",
    "    def __set__(self,instance,value):\n",
    "        self.fset(instance,value)\n",
    "    def __delete(self,instance):\n",
    "        self.fdel(instance)\n",
    "class C:\n",
    "    def __init__(self):\n",
    "        self._x=250\n",
    "    def getx(self):\n",
    "        return self._x\n",
    "    def setx(self,value):\n",
    "        self._x=value\n",
    "    def delx(self):\n",
    "        del self._x\n",
    "    x=MyProperty(getx,setx,delx)\n",
    "c=C()\n",
    "c.x\n",
    "c.x=520\n",
    "c.__dict__"
   ]
  },
  {
   "cell_type": "code",
   "execution_count": 51,
   "id": "0293e717",
   "metadata": {},
   "outputs": [
    {
     "name": "stdout",
     "output_type": "stream",
     "text": [
      "{'_x': 250}\n"
     ]
    }
   ],
   "source": [
    "class MyProperty:\n",
    "    def __init__(self,fget=None,fset=None,fdel=None):\n",
    "        self.fget=fget\n",
    "        self.fset=fset\n",
    "        self.fdel=fdel\n",
    "    def __get__(self,instance,owner):\n",
    "        return self.fget(instance)\n",
    "    def __set__(self,instance,value):\n",
    "        self.fset(instance,value)\n",
    "    def __delete(self,instance):\n",
    "        self.fdel(instance)\n",
    "    def getter(self,func):\n",
    "        self.fget=func\n",
    "        return self\n",
    "    def setter(self,func):\n",
    "        self.fset=func\n",
    "        return self\n",
    "    def deleter(self,func):\n",
    "        self.fdel=func\n",
    "        return self\n",
    "class C:\n",
    "    def __init__(self):\n",
    "        self._x=250\n",
    "    def getx(self):\n",
    "        return self._x\n",
    "    def setx(self,value):\n",
    "        self._x=value\n",
    "    def delx(self):\n",
    "        del self._x\n",
    "\n",
    "class D:\n",
    "    def __init__(self):\n",
    "        self._x=250\n",
    "    x=MyProperty()\n",
    "    @x.getter\n",
    "    def x(self):\n",
    "        return self._x\n",
    "    @x.setter\n",
    "    def x(self,value):\n",
    "        self._x=value\n",
    "    @x.deleter\n",
    "    def x(self):\n",
    "        del self._x\n",
    "d=D()\n",
    "d.x\n",
    "print(d.__dict__)"
   ]
  },
  {
   "cell_type": "code",
   "execution_count": 53,
   "id": "be2fbb4d",
   "metadata": {},
   "outputs": [
    {
     "name": "stdout",
     "output_type": "stream",
     "text": [
      "get~~\n"
     ]
    },
    {
     "data": {
      "text/plain": [
       "'ldy'"
      ]
     },
     "execution_count": 53,
     "metadata": {},
     "output_type": "execute_result"
    }
   ],
   "source": [
    "#描述符只能应用于类属性\n",
    "# 数据描述符 实现了__set__()、__delete__()方法\n",
    "# 非数据描述符 __get__()\n",
    "#优先级顺序：数据描述符>实例对象属性>非数据描述符>类属性\n",
    "class D:\n",
    "    def __get__(self,instance,owner):\n",
    "        print(\"get~~\")\n",
    "class C:\n",
    "    x=D()\n",
    "c=C()\n",
    "c.x\n",
    "c.x=\"ldy\"\n",
    "c.x"
   ]
  },
  {
   "cell_type": "code",
   "execution_count": 55,
   "id": "f511fdf1",
   "metadata": {},
   "outputs": [
    {
     "name": "stdout",
     "output_type": "stream",
     "text": [
      "set~~\n",
      "get~~\n",
      "{}\n"
     ]
    }
   ],
   "source": [
    "class D:\n",
    "    def __get__(self,instance,owner):\n",
    "        print(\"get~~\")\n",
    "    def __set__(self,instance,value):\n",
    "        print(\"set~~\")\n",
    "class C:\n",
    "    x=D()\n",
    "c=C()\n",
    "c.x=\"ldy\"\n",
    "c.x\n",
    "print(c.__dict__)"
   ]
  },
  {
   "cell_type": "code",
   "execution_count": 56,
   "id": "74afb5e1",
   "metadata": {},
   "outputs": [
    {
     "name": "stdout",
     "output_type": "stream",
     "text": [
      "aha~~\n"
     ]
    }
   ],
   "source": [
    "class D:\n",
    "    def __get__(self,instance,owner):\n",
    "        print(\"get~~\")\n",
    "    def __set__(self,instance,value):\n",
    "        print(\"set~~\")\n",
    "class C:\n",
    "    x=D()\n",
    "    def __getattribute__(self,name):\n",
    "        print(\"aha~~\")\n",
    "c=C()\n",
    "c.x"
   ]
  },
  {
   "cell_type": "code",
   "execution_count": 59,
   "id": "c73e2910",
   "metadata": {},
   "outputs": [
    {
     "name": "stdout",
     "output_type": "stream",
     "text": [
      "set~~\n"
     ]
    },
    {
     "data": {
      "text/plain": [
       "{'x': 250}"
      ]
     },
     "execution_count": 59,
     "metadata": {},
     "output_type": "execute_result"
    }
   ],
   "source": [
    "class D:\n",
    "    def __init__(self,name):\n",
    "        self.name=name\n",
    "    def __get__(self,instance,owner):\n",
    "        print(\"get~~\")\n",
    "        return instance.__dict__.get(self.name)\n",
    "    def __set__(self,instance,value):\n",
    "        print(\"set~~\")\n",
    "        instance.__dict__[self.name]=value\n",
    "class C:\n",
    "    x=D(\"x\")\n",
    "c=C()\n",
    "c.x=250\n",
    "c.__dict__"
   ]
  },
  {
   "cell_type": "code",
   "execution_count": 68,
   "id": "9a720998",
   "metadata": {},
   "outputs": [
    {
     "name": "stdout",
     "output_type": "stream",
     "text": [
      "set~~\n"
     ]
    },
    {
     "data": {
      "text/plain": [
       "{'x': 250}"
      ]
     },
     "execution_count": 68,
     "metadata": {},
     "output_type": "execute_result"
    }
   ],
   "source": [
    "#__set_name__()\n",
    "class D:\n",
    "    def __set_name__(self,owner,name):\n",
    "        self.name=name\n",
    "    def __get__(self,instance,owner):\n",
    "        print(\"get~~\")\n",
    "        return instance.__dict__.get(self.name)\n",
    "    def __set__(self,instance,value):\n",
    "        print(\"set~~\")\n",
    "        instance.__dict__[self.name]=value\n",
    "class C:\n",
    "    x=D()\n",
    "c=C()\n",
    "c.x=250\n",
    "c.__dict__"
   ]
  },
  {
   "cell_type": "code",
   "execution_count": 70,
   "id": "cf26e3d2",
   "metadata": {},
   "outputs": [
    {
     "name": "stdout",
     "output_type": "stream",
     "text": [
      "====\n",
      "====\n",
      "====\n",
      "构造函数调用\n",
      "====\n"
     ]
    }
   ],
   "source": [
    "#函数装饰器--》类\n",
    "def report(cls):\n",
    "    def oncall(*args,**kwargs):\n",
    "        print(\"====\")\n",
    "        _=cls(*args,**kwargs)\n",
    "        print(\"====\")\n",
    "        return _\n",
    "    return oncall\n",
    "@report\n",
    "class C:\n",
    "    pass\n",
    "c=C()\n",
    "@report\n",
    "class C:\n",
    "    def __init__(self,x,y,z):\n",
    "        self.x=x\n",
    "        self.y=y\n",
    "        self.z=z\n",
    "        print(\"构造函数调用\")\n",
    "c=C(1,2,3)"
   ]
  },
  {
   "cell_type": "code",
   "execution_count": 79,
   "id": "a2ca7866",
   "metadata": {},
   "outputs": [
    {
     "name": "stdout",
     "output_type": "stream",
     "text": [
      "已经被调用1次\n",
      "hi\n",
      "已经被调用2次\n",
      "hi\n"
     ]
    }
   ],
   "source": [
    "#类装饰器--》函数\n",
    "class Counter:\n",
    "    def __init__(self,func):\n",
    "        self.count=0\n",
    "        self.func=func\n",
    "    def __call__(self,*args,**kwargs):\n",
    "        self.count+=1\n",
    "        print(f\"已经被调用{self.count}次\")\n",
    "        return self.func(*args,**kwargs)\n",
    "@Counter\n",
    "def say_hi():\n",
    "    print(\"hi\")\n",
    "say_hi()\n",
    "say_hi()"
   ]
  },
  {
   "cell_type": "code",
   "execution_count": 85,
   "id": "660047d8",
   "metadata": {},
   "outputs": [
    {
     "name": "stdout",
     "output_type": "stream",
     "text": [
      "正在访问say_hi\n",
      "haiydl\n",
      "正在访问say_hi\n",
      "haiydl\n"
     ]
    }
   ],
   "source": [
    "class Check:\n",
    "    def __init__(self,cls):\n",
    "        self.cls=cls\n",
    "    def __call__(self,*args,**kwargs):\n",
    "        self.obj=self.cls(*args,**kwargs)\n",
    "        return self\n",
    "    def __getattr__(self,name):\n",
    "        print(f\"正在访问{name}\")\n",
    "        return getattr(self.obj,name)\n",
    "@Check\n",
    "class C:\n",
    "    def __init__(self,name):\n",
    "        self.name=name\n",
    "    def say_hi(self):\n",
    "        print(f\"hai{self.name}\")\n",
    "    def say_hello(self):\n",
    "        print(f\"hello{self.name}\")\n",
    "c1=C(\"ldy\")\n",
    "c2=C(\"ydl\")\n",
    "c2.say_hi()\n",
    "c1.say_hi()"
   ]
  },
  {
   "cell_type": "code",
   "execution_count": 86,
   "id": "fbe3523d",
   "metadata": {},
   "outputs": [
    {
     "name": "stdout",
     "output_type": "stream",
     "text": [
      "正在访问say_hi\n",
      "haiydl\n",
      "正在访问say_hi\n",
      "haildy\n"
     ]
    }
   ],
   "source": [
    "def report(cls):\n",
    "    class Check:\n",
    "        def __init__(self,*args,**kwargs):\n",
    "            self.obj=cls(*args,**kwargs)\n",
    "        def __getattr__(self,name):\n",
    "            print(f\"正在访问{name}\")\n",
    "            return getattr(self.obj,name)\n",
    "    return Check\n",
    "@report\n",
    "class C:\n",
    "    def __init__(self,name):\n",
    "        self.name=name\n",
    "    def say_hi(self):\n",
    "        print(f\"hai{self.name}\")\n",
    "    def say_hello(self):\n",
    "        print(f\"hello{self.name}\")\n",
    "c1=C(\"ldy\")\n",
    "c2=C(\"ydl\")\n",
    "c2.say_hi()\n",
    "c1.say_hi()"
   ]
  },
  {
   "cell_type": "code",
   "execution_count": 87,
   "id": "a0d69375",
   "metadata": {},
   "outputs": [
    {
     "name": "stdout",
     "output_type": "stream",
     "text": [
      "haiydl\n",
      "haildy\n"
     ]
    }
   ],
   "source": [
    "class Check:\n",
    "    def __init__(self,cls):\n",
    "        self.cls=cls\n",
    "    def __call__(self,*args,**kwargs):\n",
    "        return self.cls(*args,**kwargs)\n",
    "    def __getattr__(self,name):\n",
    "        print(f\"正在访问{name}\")\n",
    "        return getattr(self.obj,name)\n",
    "@Check\n",
    "class C:\n",
    "    def __init__(self,name):\n",
    "        self.name=name\n",
    "    def say_hi(self):\n",
    "        print(f\"hai{self.name}\")\n",
    "    def say_hello(self):\n",
    "        print(f\"hello{self.name}\")\n",
    "c1=C(\"ldy\")\n",
    "c2=C(\"ydl\")\n",
    "c2.say_hi()\n",
    "c1.say_hi()"
   ]
  },
  {
   "cell_type": "code",
   "execution_count": null,
   "id": "5009221b",
   "metadata": {},
   "outputs": [],
   "source": []
  }
 ],
 "metadata": {
  "kernelspec": {
   "display_name": "Python 3 (ipykernel)",
   "language": "python",
   "name": "python3"
  },
  "language_info": {
   "codemirror_mode": {
    "name": "ipython",
    "version": 3
   },
   "file_extension": ".py",
   "mimetype": "text/x-python",
   "name": "python",
   "nbconvert_exporter": "python",
   "pygments_lexer": "ipython3",
   "version": "3.9.7"
  }
 },
 "nbformat": 4,
 "nbformat_minor": 5
}
